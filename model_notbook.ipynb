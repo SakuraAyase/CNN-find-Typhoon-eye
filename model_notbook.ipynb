{
 "cells": [
  {
   "cell_type": "code",
   "execution_count": 1,
   "metadata": {
    "collapsed": true
   },
   "outputs": [
    {
     "name": "stderr",
     "output_type": "stream",
     "text": [
      "Using TensorFlow backend.\n"
     ]
    }
   ],
   "source": [
    "from keras.models import *\n",
    "from keras.layers import *\n",
    "from keras.applications import *\n",
    "from keras.utils import *\n",
    "from scipy import *\n",
    "from keras.optimizers import *\n",
    "\n",
    "import xlrd\n",
    "import os\n",
    "import numpy as np\n",
    "from PIL import Image\n",
    "import matplotlib.pyplot as plt\n",
    "\n",
    "def str2int(str):\n",
    "    for i,s in enumerate(str):\n",
    "        if s == ' ':\n",
    "            return int(str[0:i])\n",
    "\n",
    "def img_trans(file_name):\n",
    "    width = 256\n",
    "    height = 256\n",
    "    channel = 1\n",
    "    image = Image.open(file_name)\n",
    "    image = np.array(image.convert(\"L\"))\n",
    "\n",
    "    for i in range(image.shape[0]):\n",
    "        for j in range(image.shape[1]):\n",
    "            image[i, j] = np.int_(np.power((max(image[i, j], 170)-170)*3/255,0.4)*255)\n",
    "    pil_im = Image.fromarray(image)\n",
    "    out = pil_im.resize((width,height))\n",
    "    data = out.getdata()\n",
    "    data = np.matrix(data, dtype='float')/256\n",
    "    new_data = np.reshape(data, (width,height,1))\n",
    "    return new_data\n",
    "\n",
    "def get_inform():\n",
    "\n",
    "    longitude = []\n",
    "    latitude = []\n",
    "    img_list = []\n",
    "    img_longth = []\n",
    "    path = \"dataset/dataset/infos/north/\"\n",
    "    path_img = \"dataset/dataset/imgs/north/\"\n",
    "\n",
    "    file_list = os.listdir(path)\n",
    "    for file in file_list:\n",
    "        xlsfile = path + file\n",
    "        book = xlrd.open_workbook(xlsfile)\n",
    "        sheet0 = book.sheet_by_index(0)\n",
    "        row4_data = sheet0.col_values(2)[:]\n",
    "        row5_data = sheet0.col_values(3)[:]\n",
    "        img_longth.append(len(row4_data)-1)\n",
    "\n",
    "        for i in range(1,len(row4_data)):\n",
    "            p = float(row4_data[i])\n",
    "            w = float(row5_data[i])\n",
    "\n",
    "            longitude.append(p)\n",
    "            latitude.append(w)\n",
    "\n",
    "\n",
    "    file_list = os.listdir(path_img)\n",
    "    img_l = 0\n",
    "    for file in file_list:\n",
    "        print(file)\n",
    "        xlsfile = path_img + file + \"/\"\n",
    "        for i in range(img_longth[img_l]):\n",
    "            img_list.append(img_trans(xlsfile + str(i+1)+ \"_size256.jpg\"))\n",
    "        img_l = img_l + 1\n",
    "\n",
    "    path = \"dataset/dataset/infos/south/\"\n",
    "    path_img = \"dataset/dataset/imgs/south/\"\n",
    "    img_longth = []\n",
    "    file_list = os.listdir(path)\n",
    "    for file in file_list:\n",
    "        xlsfile = path + file\n",
    "        book = xlrd.open_workbook(xlsfile)\n",
    "        sheet0 = book.sheet_by_index(0)\n",
    "        row4_data = sheet0.col_values(2)[:]\n",
    "        row5_data = sheet0.col_values(3)[:]\n",
    "        img_longth.append(len(row4_data) - 1)\n",
    "\n",
    "        for i in range(1, len(row4_data)):\n",
    "            p = float(row4_data[i])\n",
    "            w = float(row5_data[i])\n",
    "\n",
    "            longitude.append(p)\n",
    "            latitude.append(w)\n",
    "    print(len(longitude))\n",
    "\n",
    "    position = np.zeros((len(longitude), 2))\n",
    "    for i in range(len(longitude)):\n",
    "        position[i, 0] = longitude[i] + 180\n",
    "        position[i, 1] = latitude[i]\n",
    "\n",
    "\n",
    "    print(position)\n",
    "\n",
    "    file_list = os.listdir(path_img)\n",
    "    img_l = 0\n",
    "    for file in file_list:\n",
    "        print(file)\n",
    "        xlsfile = path_img + file + \"/\"\n",
    "        for i in range(img_longth[img_l]):\n",
    "            img_list.append(img_trans(xlsfile + str(i + 1) + \"_size256.jpg\"))\n",
    "        img_l = img_l + 1\n",
    "\n",
    "    img_list = np.array(img_list)\n",
    "    lens = len(img_list)\n",
    "    img_list.shape = (lens, 256, 256, 1)\n",
    "    lens = int(np.ceil(lens * 0.9))\n",
    "    train_img = img_list[:lens]\n",
    "    test_img = img_list[lens:]\n",
    "    train_pos = position[:lens]\n",
    "    test_pos = position[lens:]\n",
    "\n",
    "    print(np.array(img_list).shape)\n",
    "    print(position.shape)\n",
    "\n",
    "\n",
    "    return train_img,test_img,train_pos,test_pos\n",
    "\n",
    "\n",
    "distance = 12756\n",
    "\n",
    "def model():\n",
    "    col = 256\n",
    "    row = 256\n",
    "    channel = 1\n",
    "    m = Sequential()\n",
    "    m.add(Conv2D(64, kernel_size=(5, 5), strides=2, padding='same', input_shape=(256, 256, 1), activation='relu'))\n",
    "    m.add(MaxPool2D())\n",
    "    m.add(Conv2D(32, kernel_size=(5, 5), strides=2, padding='same', activation='relu'))\n",
    "    m.add(MaxPool2D())\n",
    "    m.add(Conv2D(16, kernel_size=(2, 2), padding='same', strides=1, activation='relu'))\n",
    "    m.add(MaxPool2D())\n",
    "\n",
    "    m.add(Conv2D(1, kernel_size=(2, 2), padding='same', strides=1, activation='relu'))\n",
    "    m.add(MaxPool2D())\n",
    "\n",
    "    m.add(Flatten(input_shape=m.output_shape[1:]))\n",
    "\n",
    "    m.add(Dense(64, activation='sigmoid'))\n",
    "    m.add(BatchNormalization())\n",
    "\n",
    "    m.add(Dense(16, activation='sigmoid'))\n",
    "    m.add(BatchNormalization())\n",
    "    m.add(Dense(2))\n",
    "    m.summary()\n",
    "\n",
    "    return m\n",
    "\n",
    "\n",
    "def train(x,y):\n",
    "\n",
    "    m=model()\n",
    "    m.compile(optimizer=rmsprop(lr=0.1),loss = 'mse',metrics=['accuracy'])\n",
    "    m.fit(x,y,epochs=1)\n",
    "    return m\n",
    "\n",
    "def test(y,y_):\n",
    "    y_d = (y-y_)*(y-y_)\n",
    "\n",
    "    print(y)\n",
    "    print(y_)\n",
    "    return np.average(y_d)\n",
    "\n"
   ]
  },
  {
   "cell_type": "code",
   "execution_count": 2,
   "metadata": {},
   "outputs": [
    {
     "name": "stdout",
     "output_type": "stream",
     "text": [
      "200101\n"
     ]
    },
    {
     "name": "stdout",
     "output_type": "stream",
     "text": [
      "200102\n"
     ]
    },
    {
     "name": "stdout",
     "output_type": "stream",
     "text": [
      "200103\n"
     ]
    },
    {
     "name": "stdout",
     "output_type": "stream",
     "text": [
      "200104\n"
     ]
    },
    {
     "name": "stdout",
     "output_type": "stream",
     "text": [
      "200105\n"
     ]
    },
    {
     "name": "stdout",
     "output_type": "stream",
     "text": [
      "200106\n"
     ]
    },
    {
     "name": "stdout",
     "output_type": "stream",
     "text": [
      "200107\n"
     ]
    },
    {
     "name": "stdout",
     "output_type": "stream",
     "text": [
      "200108\n"
     ]
    },
    {
     "name": "stdout",
     "output_type": "stream",
     "text": [
      "200109\n"
     ]
    },
    {
     "name": "stdout",
     "output_type": "stream",
     "text": [
      "200110\n"
     ]
    },
    {
     "name": "stdout",
     "output_type": "stream",
     "text": [
      "200111\n"
     ]
    },
    {
     "name": "stdout",
     "output_type": "stream",
     "text": [
      "200112\n"
     ]
    },
    {
     "name": "stdout",
     "output_type": "stream",
     "text": [
      "200113\n"
     ]
    },
    {
     "name": "stdout",
     "output_type": "stream",
     "text": [
      "200114\n"
     ]
    },
    {
     "name": "stdout",
     "output_type": "stream",
     "text": [
      "200115\n"
     ]
    },
    {
     "name": "stdout",
     "output_type": "stream",
     "text": [
      "200116\n"
     ]
    },
    {
     "name": "stdout",
     "output_type": "stream",
     "text": [
      "200117\n"
     ]
    },
    {
     "name": "stdout",
     "output_type": "stream",
     "text": [
      "200118\n"
     ]
    },
    {
     "name": "stdout",
     "output_type": "stream",
     "text": [
      "200119\n"
     ]
    },
    {
     "name": "stdout",
     "output_type": "stream",
     "text": [
      "200120\n"
     ]
    },
    {
     "name": "stdout",
     "output_type": "stream",
     "text": [
      "200121\n"
     ]
    },
    {
     "name": "stdout",
     "output_type": "stream",
     "text": [
      "200122\n"
     ]
    },
    {
     "name": "stdout",
     "output_type": "stream",
     "text": [
      "200123\n"
     ]
    },
    {
     "name": "stdout",
     "output_type": "stream",
     "text": [
      "200124\n"
     ]
    },
    {
     "name": "stdout",
     "output_type": "stream",
     "text": [
      "200125\n"
     ]
    },
    {
     "name": "stdout",
     "output_type": "stream",
     "text": [
      "200126\n"
     ]
    },
    {
     "name": "stdout",
     "output_type": "stream",
     "text": [
      "200201\n"
     ]
    },
    {
     "name": "stdout",
     "output_type": "stream",
     "text": [
      "200202\n"
     ]
    },
    {
     "name": "stdout",
     "output_type": "stream",
     "text": [
      "200203\n"
     ]
    },
    {
     "name": "stdout",
     "output_type": "stream",
     "text": [
      "200204\n"
     ]
    },
    {
     "name": "stdout",
     "output_type": "stream",
     "text": [
      "200205\n"
     ]
    },
    {
     "name": "stdout",
     "output_type": "stream",
     "text": [
      "200206\n"
     ]
    }
   ],
   "source": [
    "train_img,test_img,train_pos,test_pos = get_inform()"
   ]
  },
  {
   "cell_type": "code",
   "execution_count": null,
   "metadata": {},
   "outputs": [
    {
     "name": "stdout",
     "output_type": "stream",
     "text": [
      "200101\n"
     ]
    },
    {
     "name": "stdout",
     "output_type": "stream",
     "text": [
      "200102\n"
     ]
    },
    {
     "name": "stdout",
     "output_type": "stream",
     "text": [
      "200103\n"
     ]
    },
    {
     "name": "stdout",
     "output_type": "stream",
     "text": [
      "200104\n"
     ]
    },
    {
     "name": "stdout",
     "output_type": "stream",
     "text": [
      "200105\n"
     ]
    },
    {
     "name": "stdout",
     "output_type": "stream",
     "text": [
      "200106\n"
     ]
    },
    {
     "name": "stdout",
     "output_type": "stream",
     "text": [
      "200107\n"
     ]
    },
    {
     "name": "stdout",
     "output_type": "stream",
     "text": [
      "200108\n"
     ]
    },
    {
     "name": "stdout",
     "output_type": "stream",
     "text": [
      "200109\n"
     ]
    },
    {
     "name": "stdout",
     "output_type": "stream",
     "text": [
      "200110\n"
     ]
    },
    {
     "name": "stdout",
     "output_type": "stream",
     "text": [
      "200111\n"
     ]
    },
    {
     "name": "stdout",
     "output_type": "stream",
     "text": [
      "200112\n"
     ]
    },
    {
     "name": "stdout",
     "output_type": "stream",
     "text": [
      "200113\n"
     ]
    },
    {
     "name": "stdout",
     "output_type": "stream",
     "text": [
      "200114\n"
     ]
    },
    {
     "name": "stdout",
     "output_type": "stream",
     "text": [
      "200115\n"
     ]
    },
    {
     "name": "stdout",
     "output_type": "stream",
     "text": [
      "200116\n"
     ]
    },
    {
     "name": "stdout",
     "output_type": "stream",
     "text": [
      "200117\n"
     ]
    },
    {
     "name": "stdout",
     "output_type": "stream",
     "text": [
      "200118\n"
     ]
    },
    {
     "name": "stdout",
     "output_type": "stream",
     "text": [
      "200119\n"
     ]
    },
    {
     "name": "stdout",
     "output_type": "stream",
     "text": [
      "200120\n"
     ]
    },
    {
     "name": "stdout",
     "output_type": "stream",
     "text": [
      "200121\n"
     ]
    },
    {
     "name": "stdout",
     "output_type": "stream",
     "text": [
      "200122\n"
     ]
    },
    {
     "name": "stdout",
     "output_type": "stream",
     "text": [
      "200123\n"
     ]
    },
    {
     "name": "stdout",
     "output_type": "stream",
     "text": [
      "200124\n"
     ]
    },
    {
     "name": "stdout",
     "output_type": "stream",
     "text": [
      "200125\n"
     ]
    },
    {
     "name": "stdout",
     "output_type": "stream",
     "text": [
      "200126\n"
     ]
    },
    {
     "name": "stdout",
     "output_type": "stream",
     "text": [
      "200201\n"
     ]
    },
    {
     "name": "stdout",
     "output_type": "stream",
     "text": [
      "200202\n"
     ]
    },
    {
     "name": "stdout",
     "output_type": "stream",
     "text": [
      "200203\n"
     ]
    },
    {
     "name": "stdout",
     "output_type": "stream",
     "text": [
      "200204\n"
     ]
    },
    {
     "name": "stdout",
     "output_type": "stream",
     "text": [
      "200205\n"
     ]
    },
    {
     "name": "stdout",
     "output_type": "stream",
     "text": [
      "200206\n"
     ]
    }
   ],
   "source": [
    "print(train_pos)\n",
    "m = train(train_img,train_pos)\n",
    "y = m.predict(test_img)\n",
    "print(test(y,test_pos))\n"
   ]
  }
 ],
 "metadata": {
  "kernelspec": {
   "display_name": "Python 2",
   "language": "python",
   "name": "python2"
  },
  "language_info": {
   "codemirror_mode": {
    "name": "ipython",
    "version": 2
   },
   "file_extension": ".py",
   "mimetype": "text/x-python",
   "name": "python",
   "nbconvert_exporter": "python",
   "pygments_lexer": "ipython2",
   "version": "2.7.6"
  }
 },
 "nbformat": 4,
 "nbformat_minor": 0
}
